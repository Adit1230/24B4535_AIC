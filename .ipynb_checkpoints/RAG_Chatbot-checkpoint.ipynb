{
 "cells": [
  {
   "cell_type": "code",
   "execution_count": null,
   "id": "fe425e08-e1e8-4b18-b87c-ad2cd823a432",
   "metadata": {},
   "outputs": [],
   "source": [
    "#IMPORT LIBRARIES\n",
    "\n",
    "import os\n",
    "import faiss\n",
    "from typing import List\n",
    "import PyPDF2\n",
    "from sentence_transformers import SentenceTransformer\n",
    "from groq import Groq\n",
    "import requests"
   ]
  },
  {
   "cell_type": "code",
   "execution_count": null,
   "id": "7009a91e-b296-4bf6-8de3-165f642dc843",
   "metadata": {},
   "outputs": [],
   "source": [
    "# Set your Groq API key\n",
    "GROQ_API_KEY = os.getenv(\"GROQ_API_KEY\")"
   ]
  },
  {
   "cell_type": "code",
   "execution_count": null,
   "id": "f6f2ec95-d86b-41af-a89f-509c84196a09",
   "metadata": {},
   "outputs": [],
   "source": [
    "#CREATE CHATBOT CLASS\n",
    "\n",
    "class RAGChatBot:\n",
    "    def __init__(self, pdf_path, api_key):\n",
    "        print(\"Loading and indexing document\")\n",
    "        self.text = self.load_pdf(pdf_path)\n",
    "        self.chunks = self.chunk_text(self.text)\n",
    "        self.index, self.embedder = self.build_faiss_index(self.chunks)\n",
    "        self.history = []\n",
    "        self.system_prompt = \"Based on this context, answer the last user question:\\n\"\n",
    "        self.client = Groq(api_key = api_key)\n",
    "\n",
    "    def ask(self, question: str):\n",
    "        info = self.retrieve_info(question)\n",
    "        context = \"\\n\\n\".join(info)\n",
    "\n",
    "        prompt = self.system_prompt + context + \"\\nQuestion: \" + question\n",
    "        conversation = self.history + [{\"role\" : \"user\", \"content\" : prompt}]\n",
    "\n",
    "        answer = self.generate_with_groq(conversation)\n",
    "\n",
    "        self.history.append({\"role\": \"user\", \"content\": question})\n",
    "        self.history.append({\"role\": \"assistant\", \"content\": answer})\n",
    "        return answer\n",
    "\n",
    "    def build_faiss_index(self, chunks, model_name='sentence-transformers/all-MiniLM-L6-v2'):\n",
    "        embedder = SentenceTransformer(model_name)\n",
    "        embeddings = embedder.encode(chunks)\n",
    "        index = faiss.IndexFlatL2(embeddings.shape[1])\n",
    "        index.add(embeddings)\n",
    "        return index, embedder\n",
    "\n",
    "    def retrieve_info(self, query, k=5):\n",
    "        query_vec = self.embedder.encode([query])\n",
    "        distances, indices = self.index.search(query_vec, k)\n",
    "        return [self.chunks[i] for i in indices[0]]\n",
    "    \n",
    "\n",
    "    def generate_with_groq(self, messages, model=\"llama3-8b-8192\", max_tokens=512):\n",
    "        response = self.client.chat.completions.create(messages = messages, model = model, max_completion_tokens = max_tokens)\n",
    "        return response.choices[0].message.content.strip()\n",
    "        \n",
    "    @classmethod\n",
    "    def load_pdf(cls, file_path):\n",
    "        reader = PyPDF2.PdfReader(file_path)\n",
    "        return \"\\n\".join([page.extract_text() or \"\" for page in reader.pages])\n",
    "    \n",
    "    @classmethod\n",
    "    def chunk_text(cls, text, chunk_size = 500, overlap = 100):\n",
    "        words = text.split()\n",
    "        chunks = []\n",
    "        for i in range(0, len(words), chunk_size - overlap):\n",
    "            chunks.append(\" \".join(words[i:i + chunk_size]))\n",
    "        return chunks\n"
   ]
  },
  {
   "cell_type": "code",
   "execution_count": null,
   "id": "8949c728-7dc8-499a-ae33-0844c30fd8d5",
   "metadata": {},
   "outputs": [],
   "source": [
    "#CONVERSATION LOOP\n",
    "\n",
    "pdf_path = \"sample.pdf\"\n",
    "bot = RAGChatBot(pdf_path, GROQ_API_KEY)\n",
    "\n",
    "while True:\n",
    "    question = input(\"You: \")\n",
    "    if question.lower() in (\"exit\", \"quit\"):\n",
    "        break\n",
    "    answer = bot.ask(question)\n",
    "    print(f\"Bot: {answer}\\n\")"
   ]
  }
 ],
 "metadata": {
  "kernelspec": {
   "display_name": "Python 3 (ipykernel)",
   "language": "python",
   "name": "python3"
  },
  "language_info": {
   "codemirror_mode": {
    "name": "ipython",
    "version": 3
   },
   "file_extension": ".py",
   "mimetype": "text/x-python",
   "name": "python",
   "nbconvert_exporter": "python",
   "pygments_lexer": "ipython3",
   "version": "3.12.3"
  }
 },
 "nbformat": 4,
 "nbformat_minor": 5
}
